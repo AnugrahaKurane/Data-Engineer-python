{
 "cells": [
  {
   "cell_type": "code",
   "execution_count": 1,
   "id": "075f76af",
   "metadata": {},
   "outputs": [
    {
     "name": "stdout",
     "output_type": "stream",
     "text": [
      "gtvc\n"
     ]
    }
   ],
   "source": [
    "print(\"gtvc\")"
   ]
  },
  {
   "cell_type": "code",
   "execution_count": 2,
   "id": "8d70e8ad",
   "metadata": {},
   "outputs": [
    {
     "name": "stdout",
     "output_type": "stream",
     "text": [
      "hvcx\n"
     ]
    }
   ],
   "source": [
    "a ='hvcx'\n",
    "print(a)"
   ]
  },
  {
   "cell_type": "code",
   "execution_count": 3,
   "id": "d24cf97b",
   "metadata": {},
   "outputs": [
    {
     "name": "stdout",
     "output_type": "stream",
     "text": [
      "hvcx6\n"
     ]
    }
   ],
   "source": [
    "a = a+'6'\n",
    "print(a)"
   ]
  },
  {
   "cell_type": "code",
   "execution_count": 4,
   "id": "fc7ae718",
   "metadata": {},
   "outputs": [],
   "source": [
    "#Single assignmet\n",
    "a =5\n",
    "b =8\n",
    "\n",
    "#multiple assignment\n",
    "a,b =8,5"
   ]
  },
  {
   "cell_type": "code",
   "execution_count": 5,
   "id": "87f0edc0",
   "metadata": {},
   "outputs": [
    {
     "name": "stdout",
     "output_type": "stream",
     "text": [
      "17\n",
      "70\n",
      "1.4285714285714286\n",
      "3\n",
      "-3\n",
      "3\n"
     ]
    }
   ],
   "source": [
    "#numeric exoressions\n",
    "a= 10\n",
    "b=7\n",
    "print(a+b)\n",
    "print(a*b)\n",
    "print(a/b)\n",
    "print(a-b)\n",
    "print(b-a)\n",
    "print(a%b)"
   ]
  },
  {
   "cell_type": "code",
   "execution_count": 6,
   "id": "e82c7186",
   "metadata": {},
   "outputs": [
    {
     "name": "stdout",
     "output_type": "stream",
     "text": [
      "4\n"
     ]
    }
   ],
   "source": [
    "a=4\n",
    "b=2\n",
    "if(a>b):{\n",
    "print(a)}"
   ]
  },
  {
   "cell_type": "code",
   "execution_count": 7,
   "id": "2801cd6d",
   "metadata": {},
   "outputs": [
    {
     "name": "stdout",
     "output_type": "stream",
     "text": [
      "wyefdauysdjxv\n",
      "wyefd-auysdjxv\n",
      "16\n"
     ]
    }
   ],
   "source": [
    "a=\"wyefd\"\n",
    "b='auysdjxv'\n",
    "f=7\n",
    "g=9\n",
    "c=a+b\n",
    "d=a+\"-\"+b\n",
    "e=g+f\n",
    "print(c)\n",
    "print(d)\n",
    "print(e)"
   ]
  },
  {
   "cell_type": "code",
   "execution_count": 8,
   "id": "ec6a9d53",
   "metadata": {},
   "outputs": [
    {
     "data": {
      "text/plain": [
       "13"
      ]
     },
     "execution_count": 8,
     "metadata": {},
     "output_type": "execute_result"
    }
   ],
   "source": [
    "len(c)\n"
   ]
  },
  {
   "cell_type": "code",
   "execution_count": 9,
   "id": "9aa1f0ed",
   "metadata": {},
   "outputs": [
    {
     "data": {
      "text/plain": [
       "14"
      ]
     },
     "execution_count": 9,
     "metadata": {},
     "output_type": "execute_result"
    }
   ],
   "source": [
    "len(d)"
   ]
  },
  {
   "cell_type": "code",
   "execution_count": 10,
   "id": "304ea25d",
   "metadata": {},
   "outputs": [
    {
     "data": {
      "text/plain": [
       "str"
      ]
     },
     "execution_count": 10,
     "metadata": {},
     "output_type": "execute_result"
    }
   ],
   "source": [
    "type(c)\n"
   ]
  },
  {
   "cell_type": "code",
   "execution_count": 11,
   "id": "2969e0fd",
   "metadata": {},
   "outputs": [
    {
     "data": {
      "text/plain": [
       "int"
      ]
     },
     "execution_count": 11,
     "metadata": {},
     "output_type": "execute_result"
    }
   ],
   "source": [
    "type(e)"
   ]
  },
  {
   "cell_type": "code",
   "execution_count": 12,
   "id": "59ce5f03",
   "metadata": {},
   "outputs": [
    {
     "name": "stdout",
     "output_type": "stream",
     "text": [
      "18\n"
     ]
    }
   ],
   "source": [
    "a=18\n",
    "print(a)"
   ]
  },
  {
   "cell_type": "code",
   "execution_count": 13,
   "id": "abf484a8",
   "metadata": {},
   "outputs": [
    {
     "name": "stdout",
     "output_type": "stream",
     "text": [
      "large no\n"
     ]
    }
   ],
   "source": [
    "a=20\n",
    "if(a>10):\n",
    "    print(\"large no\")\n",
    "else:\n",
    "        print(\"small no\")"
   ]
  },
  {
   "cell_type": "markdown",
   "id": "807d3055",
   "metadata": {},
   "source": []
  },
  {
   "cell_type": "code",
   "execution_count": 14,
   "id": "13f8eda8",
   "metadata": {},
   "outputs": [
    {
     "ename": "ZeroDivisionError",
     "evalue": "division by zero",
     "output_type": "error",
     "traceback": [
      "\u001b[1;31m---------------------------------------------------------------------------\u001b[0m",
      "\u001b[1;31mZeroDivisionError\u001b[0m                         Traceback (most recent call last)",
      "Cell \u001b[1;32mIn[14], line 1\u001b[0m\n\u001b[1;32m----> 1\u001b[0m \u001b[38;5;241m34\u001b[39m\u001b[38;5;241m/\u001b[39m\u001b[38;5;241m0\u001b[39m\n",
      "\u001b[1;31mZeroDivisionError\u001b[0m: division by zero"
     ]
    }
   ],
   "source": [
    "34/0"
   ]
  },
  {
   "cell_type": "code",
   "execution_count": 15,
   "id": "73774d62",
   "metadata": {},
   "outputs": [
    {
     "name": "stdout",
     "output_type": "stream",
     "text": [
      "Enter name : ANu\n"
     ]
    }
   ],
   "source": [
    "name=input('Enter name : ')"
   ]
  },
  {
   "cell_type": "code",
   "execution_count": 16,
   "id": "09a50009",
   "metadata": {},
   "outputs": [],
   "source": [
    "#function\n",
    "def pay(hours, pay_per_hour):\n",
    "    amount = hours*pay_per_hour\n",
    "    return amount"
   ]
  },
  {
   "cell_type": "code",
   "execution_count": 17,
   "id": "e4fa464c",
   "metadata": {},
   "outputs": [
    {
     "data": {
      "text/plain": [
       "7.5"
      ]
     },
     "execution_count": 17,
     "metadata": {},
     "output_type": "execute_result"
    }
   ],
   "source": [
    "pay(5, 1.5)"
   ]
  },
  {
   "cell_type": "code",
   "execution_count": 19,
   "id": "eb0f2ede",
   "metadata": {},
   "outputs": [
    {
     "name": "stdout",
     "output_type": "stream",
     "text": [
      "Good morning\n"
     ]
    }
   ],
   "source": [
    "a=200\n",
    "if a<5:\n",
    "    print(\"hi\")\n",
    "elif a>20 and a<100: # Here we cant use && operator as it gives compilation error, so use 'and' keyword\n",
    "    print(\"hello\")\n",
    "else:\n",
    "    print(\"Good morning\")"
   ]
  },
  {
   "cell_type": "code",
   "execution_count": 21,
   "id": "d511575e",
   "metadata": {},
   "outputs": [
    {
     "name": "stdout",
     "output_type": "stream",
     "text": [
      "7\n"
     ]
    }
   ],
   "source": [
    "a =True\n",
    "b= False\n",
    "if a and b:\n",
    "    print(\"hi\")\n",
    "elif a or b:\n",
    "    print(7)\n",
    "else:\n",
    "    print(\"hafs\")"
   ]
  },
  {
   "cell_type": "code",
   "execution_count": 23,
   "id": "dec930dd",
   "metadata": {},
   "outputs": [
    {
     "name": "stdout",
     "output_type": "stream",
     "text": [
      "1\n",
      "2\n",
      "3\n",
      "4\n"
     ]
    }
   ],
   "source": [
    "for i in range(1, 5):\n",
    "    print(i)\n",
    "    "
   ]
  },
  {
   "cell_type": "code",
   "execution_count": 25,
   "id": "dffd84fc",
   "metadata": {},
   "outputs": [],
   "source": [
    "## PYTHON STRING ->"
   ]
  },
  {
   "cell_type": "code",
   "execution_count": 26,
   "id": "b68480e9",
   "metadata": {},
   "outputs": [
    {
     "data": {
      "text/plain": [
       "'y'"
      ]
     },
     "execution_count": 26,
     "metadata": {},
     "output_type": "execute_result"
    }
   ],
   "source": [
    "s = \"ywtdgjs\"\n",
    "s[0]"
   ]
  },
  {
   "cell_type": "code",
   "execution_count": 27,
   "id": "bdf1f654",
   "metadata": {},
   "outputs": [
    {
     "data": {
      "text/plain": [
       "'g'"
      ]
     },
     "execution_count": 27,
     "metadata": {},
     "output_type": "execute_result"
    }
   ],
   "source": [
    "s[4]"
   ]
  },
  {
   "cell_type": "code",
   "execution_count": 28,
   "id": "af933a95",
   "metadata": {},
   "outputs": [
    {
     "data": {
      "text/plain": [
       "'s'"
      ]
     },
     "execution_count": 28,
     "metadata": {},
     "output_type": "execute_result"
    }
   ],
   "source": [
    "s[-1]"
   ]
  },
  {
   "cell_type": "code",
   "execution_count": 29,
   "id": "a587178c",
   "metadata": {},
   "outputs": [
    {
     "data": {
      "text/plain": [
       "'good ba'"
      ]
     },
     "execution_count": 29,
     "metadata": {},
     "output_type": "execute_result"
    }
   ],
   "source": [
    "p=\"good bad ok\"\n",
    "p[0:7:1]"
   ]
  },
  {
   "cell_type": "code",
   "execution_count": 30,
   "id": "f07d15e9",
   "metadata": {},
   "outputs": [
    {
     "data": {
      "text/plain": [
       "'odbd'"
      ]
     },
     "execution_count": 30,
     "metadata": {},
     "output_type": "execute_result"
    }
   ],
   "source": [
    "p[1:8:2]"
   ]
  },
  {
   "cell_type": "code",
   "execution_count": 31,
   "id": "26a679e0",
   "metadata": {},
   "outputs": [
    {
     "ename": "ValueError",
     "evalue": "slice step cannot be zero",
     "output_type": "error",
     "traceback": [
      "\u001b[1;31m---------------------------------------------------------------------------\u001b[0m",
      "\u001b[1;31mValueError\u001b[0m                                Traceback (most recent call last)",
      "Cell \u001b[1;32mIn[31], line 1\u001b[0m\n\u001b[1;32m----> 1\u001b[0m p[\u001b[38;5;241m0\u001b[39m:\u001b[38;5;241m8\u001b[39m:\u001b[38;5;241m0\u001b[39m]\n",
      "\u001b[1;31mValueError\u001b[0m: slice step cannot be zero"
     ]
    }
   ],
   "source": [
    "p[0:8:0] # step value can't be zero, it gives error"
   ]
  },
  {
   "cell_type": "code",
   "execution_count": 32,
   "id": "730df289",
   "metadata": {},
   "outputs": [
    {
     "data": {
      "text/plain": [
       "'ood bad '"
      ]
     },
     "execution_count": 32,
     "metadata": {},
     "output_type": "execute_result"
    }
   ],
   "source": [
    "p[1:9]"
   ]
  },
  {
   "cell_type": "code",
   "execution_count": 33,
   "id": "6510368c",
   "metadata": {},
   "outputs": [
    {
     "data": {
      "text/plain": [
       "'good bad '"
      ]
     },
     "execution_count": 33,
     "metadata": {},
     "output_type": "execute_result"
    }
   ],
   "source": [
    "p[:9]"
   ]
  },
  {
   "cell_type": "code",
   "execution_count": 34,
   "id": "bdc36d92",
   "metadata": {},
   "outputs": [
    {
     "data": {
      "text/plain": [
       "'ok'"
      ]
     },
     "execution_count": 34,
     "metadata": {},
     "output_type": "execute_result"
    }
   ],
   "source": [
    "p[9:]"
   ]
  },
  {
   "cell_type": "code",
   "execution_count": 35,
   "id": "207e006b",
   "metadata": {},
   "outputs": [
    {
     "data": {
      "text/plain": [
       "'good bad ok'"
      ]
     },
     "execution_count": 35,
     "metadata": {},
     "output_type": "execute_result"
    }
   ],
   "source": [
    "p[::]"
   ]
  },
  {
   "cell_type": "code",
   "execution_count": 37,
   "id": "912f219d",
   "metadata": {},
   "outputs": [
    {
     "data": {
      "text/plain": [
       "'good bad ok'"
      ]
     },
     "execution_count": 37,
     "metadata": {},
     "output_type": "execute_result"
    }
   ],
   "source": [
    "p[:]"
   ]
  },
  {
   "cell_type": "code",
   "execution_count": 42,
   "id": "d225ceec",
   "metadata": {},
   "outputs": [
    {
     "data": {
      "text/plain": [
       "''"
      ]
     },
     "execution_count": 42,
     "metadata": {},
     "output_type": "execute_result"
    }
   ],
   "source": [
    "p[0:9:-2]"
   ]
  },
  {
   "cell_type": "code",
   "execution_count": 46,
   "id": "a25ead01",
   "metadata": {},
   "outputs": [],
   "source": [
    "o=\"python is easys\""
   ]
  },
  {
   "cell_type": "code",
   "execution_count": 47,
   "id": "d711137c",
   "metadata": {},
   "outputs": [
    {
     "name": "stdout",
     "output_type": "stream",
     "text": [
      "7\n"
     ]
    }
   ],
   "source": [
    "print(o.find(\"is\"))"
   ]
  },
  {
   "cell_type": "code",
   "execution_count": 48,
   "id": "07ff0ad3",
   "metadata": {},
   "outputs": [
    {
     "name": "stdout",
     "output_type": "stream",
     "text": [
      "7\n"
     ]
    }
   ],
   "source": [
    "print(o.rfind(\"is\"))"
   ]
  },
  {
   "cell_type": "code",
   "execution_count": 49,
   "id": "d7203235",
   "metadata": {},
   "outputs": [
    {
     "name": "stdout",
     "output_type": "stream",
     "text": [
      "-1\n"
     ]
    }
   ],
   "source": [
    "print(o.find('y',3,6))"
   ]
  },
  {
   "cell_type": "code",
   "execution_count": 50,
   "id": "dcba92aa",
   "metadata": {},
   "outputs": [
    {
     "name": "stdout",
     "output_type": "stream",
     "text": [
      "-1\n"
     ]
    }
   ],
   "source": [
    "print(o.rfind('y',3,6))"
   ]
  },
  {
   "cell_type": "code",
   "execution_count": 51,
   "id": "a36bc0ae",
   "metadata": {},
   "outputs": [
    {
     "name": "stdout",
     "output_type": "stream",
     "text": [
      "-1\n"
     ]
    }
   ],
   "source": [
    "print(o.find('p',1,3))"
   ]
  },
  {
   "cell_type": "code",
   "execution_count": 52,
   "id": "fa7480d3",
   "metadata": {},
   "outputs": [
    {
     "name": "stdout",
     "output_type": "stream",
     "text": [
      "-1\n"
     ]
    }
   ],
   "source": [
    "print(o.find('y',2,9))"
   ]
  },
  {
   "cell_type": "code",
   "execution_count": 54,
   "id": "766bd5e1",
   "metadata": {},
   "outputs": [
    {
     "name": "stdout",
     "output_type": "stream",
     "text": [
      "good:soft\n",
      "hello-hard\n",
      "its not found\n"
     ]
    }
   ],
   "source": [
    "s=input(\"good:\")\n",
    "sb=input(\"hello-\")\n",
    "try:\n",
    "    i=s.index(sb)\n",
    "except ValueError:\n",
    "    print(\"its not found\")\n",
    "else :\n",
    "    print(\"its found\")"
   ]
  },
  {
   "cell_type": "code",
   "execution_count": 56,
   "id": "f7aa2a94",
   "metadata": {},
   "outputs": [],
   "source": [
    "## list =[]\n",
    "## print(list)\n",
    "## print(type(list))\n",
    "## []\n",
    "## <class 'list'>"
   ]
  },
  {
   "cell_type": "code",
   "execution_count": 61,
   "id": "b6b98513",
   "metadata": {},
   "outputs": [],
   "source": [
    "list = [1,3,5,5] "
   ]
  },
  {
   "cell_type": "code",
   "execution_count": 62,
   "id": "8df6b8b0",
   "metadata": {},
   "outputs": [],
   "source": [
    "list = ['a','d','r','t']"
   ]
  },
  {
   "cell_type": "code",
   "execution_count": 63,
   "id": "d8572d3f",
   "metadata": {},
   "outputs": [],
   "source": [
    "# To enter data in list ny user , we use eval"
   ]
  },
  {
   "cell_type": "code",
   "execution_count": 65,
   "id": "4b94e910",
   "metadata": {},
   "outputs": [
    {
     "name": "stdout",
     "output_type": "stream",
     "text": [
      "Enter list :1,2,3,4\n"
     ]
    }
   ],
   "source": [
    "list =eval(input(\"Enter list :\"))"
   ]
  },
  {
   "cell_type": "code",
   "execution_count": 66,
   "id": "5905880d",
   "metadata": {},
   "outputs": [
    {
     "name": "stdout",
     "output_type": "stream",
     "text": [
      "(1, 2, 3, 4)\n"
     ]
    }
   ],
   "source": [
    "print(list)"
   ]
  },
  {
   "cell_type": "code",
   "execution_count": 74,
   "id": "9b9d4d73",
   "metadata": {},
   "outputs": [
    {
     "ename": "TypeError",
     "evalue": "'tuple' object is not callable",
     "output_type": "error",
     "traceback": [
      "\u001b[1;31m---------------------------------------------------------------------------\u001b[0m",
      "\u001b[1;31mTypeError\u001b[0m                                 Traceback (most recent call last)",
      "Cell \u001b[1;32mIn[74], line 1\u001b[0m\n\u001b[1;32m----> 1\u001b[0m l\u001b[38;5;241m=\u001b[39m\u001b[38;5;28mlist\u001b[39m(\u001b[38;5;28mrange\u001b[39m(\u001b[38;5;241m0\u001b[39m,\u001b[38;5;241m3\u001b[39m,\u001b[38;5;241m1\u001b[39m))\n\u001b[0;32m      2\u001b[0m \u001b[38;5;28mprint\u001b[39m(l)\n",
      "\u001b[1;31mTypeError\u001b[0m: 'tuple' object is not callable"
     ]
    }
   ],
   "source": [
    "l=list(range(0,3,1))\n",
    "print(l)"
   ]
  },
  {
   "cell_type": "code",
   "execution_count": 68,
   "id": "fe0399b4",
   "metadata": {},
   "outputs": [
    {
     "name": "stdout",
     "output_type": "stream",
     "text": [
      "<class 'tuple'>\n"
     ]
    }
   ],
   "source": [
    "print(type(list))"
   ]
  },
  {
   "cell_type": "code",
   "execution_count": 73,
   "id": "6b967789",
   "metadata": {},
   "outputs": [
    {
     "ename": "TypeError",
     "evalue": "tuple indices must be integers or slices, not range",
     "output_type": "error",
     "traceback": [
      "\u001b[1;31m---------------------------------------------------------------------------\u001b[0m",
      "\u001b[1;31mTypeError\u001b[0m                                 Traceback (most recent call last)",
      "Cell \u001b[1;32mIn[73], line 1\u001b[0m\n\u001b[1;32m----> 1\u001b[0m p\u001b[38;5;241m=\u001b[39m\u001b[38;5;28mlist\u001b[39m[\u001b[38;5;28mrange\u001b[39m(\u001b[38;5;241m0\u001b[39m,\u001b[38;5;241m10\u001b[39m,\u001b[38;5;241m2\u001b[39m)]\n\u001b[0;32m      2\u001b[0m \u001b[38;5;28mprint\u001b[39m(p)\n",
      "\u001b[1;31mTypeError\u001b[0m: tuple indices must be integers or slices, not range"
     ]
    }
   ],
   "source": [
    "p=list[range(0,10,2)]\n",
    "print(p)"
   ]
  },
  {
   "cell_type": "code",
   "execution_count": 76,
   "id": "79ac5468",
   "metadata": {},
   "outputs": [
    {
     "name": "stdout",
     "output_type": "stream",
     "text": [
      "['learning', 'python', 'today']\n"
     ]
    }
   ],
   "source": [
    "s=\"learning python today\"\n",
    "l=s.split() # here spilt function by default takes the space to split\n",
    "print(l)"
   ]
  },
  {
   "cell_type": "code",
   "execution_count": 78,
   "id": "7b08927f",
   "metadata": {},
   "outputs": [
    {
     "name": "stdout",
     "output_type": "stream",
     "text": [
      "<class 'list'>\n"
     ]
    }
   ],
   "source": [
    "print(type(l))"
   ]
  },
  {
   "cell_type": "code",
   "execution_count": null,
   "id": "ce5f762c",
   "metadata": {},
   "outputs": [],
   "source": []
  }
 ],
 "metadata": {
  "kernelspec": {
   "display_name": "Python 3 (ipykernel)",
   "language": "python",
   "name": "python3"
  },
  "language_info": {
   "codemirror_mode": {
    "name": "ipython",
    "version": 3
   },
   "file_extension": ".py",
   "mimetype": "text/x-python",
   "name": "python",
   "nbconvert_exporter": "python",
   "pygments_lexer": "ipython3",
   "version": "3.11.5"
  }
 },
 "nbformat": 4,
 "nbformat_minor": 5
}
